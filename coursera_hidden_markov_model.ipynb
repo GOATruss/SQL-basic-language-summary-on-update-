{
  "nbformat": 4,
  "nbformat_minor": 0,
  "metadata": {
    "colab": {
      "name": "coursera_hidden_markov_model.ipynb",
      "provenance": [],
      "authorship_tag": "ABX9TyPpCHcB7pWyvrfrOTIumIn9",
      "include_colab_link": true
    },
    "kernelspec": {
      "name": "python3",
      "display_name": "Python 3"
    },
    "language_info": {
      "name": "python"
    }
  },
  "cells": [
    {
      "cell_type": "markdown",
      "metadata": {
        "id": "view-in-github",
        "colab_type": "text"
      },
      "source": [
        "<a href=\"https://colab.research.google.com/github/GOATruss/SQL-basic-language-summary-on-update-/blob/main/coursera_hidden_markov_model.ipynb\" target=\"_parent\"><img src=\"https://colab.research.google.com/assets/colab-badge.svg\" alt=\"Open In Colab\"/></a>"
      ]
    },
    {
      "cell_type": "markdown",
      "source": [
        "#**_1.1 Classifying the HIV Phenotype_**\n",
        "- 针对病毒的经典疫苗通常由病毒的表面蛋白制成。这些疫苗刺激人类免疫系统**the immune system**将病毒包膜蛋白**viral envelope proteins**识别为外来物，并将其破坏，并将其记录下来，以便免疫系统在以后遇到病毒时能够识别并根除。\n",
        "\n",
        "- Classical vaccines against viruses are often made from the surface proteins of a virus. These vaccines stimulate the human immune system to recognize viral envelope proteins as foreign, destroy them, and keep a record of it, so that the immune system can identify and eradicate the virus in a later encounter.\n",
        "\n",
        "- 然而，HIV病毒的包膜蛋白是极其多变的，因为病毒必须迅速变异才能生存。单个感染者体内的HIV群体迅速进化以躲避人类免疫系统（见下图），更不用说从不同病人身上提取的HIV毒株代表了多个高度分化的亚型。\n",
        "\n",
        "- **_因此，一个成功的HIV疫苗必须足够广泛，以考虑到这种变异性。_**\n",
        "\n",
        "- We can regard **the viral envelope proteins** is a **random variable** because the virus must mutate rapidly in order to survive.\n",
        "\n",
        "**Example**\n",
        "\n",
        "<img src='https://drive.google.com/uc?id=1dG0cw42roI_JGBIPdT2nAuMpitJUdlI0' width=\"\"/>\n",
        "\n",
        "**[图]**从一个HIV阳性患者身上取样的gp120蛋白的短区域在9个不同时间点的多重排列。几乎有一半的柱子（用深色文字显示）在所有的时间点上都不保守，说明HIV的进化是多么迅速，甚至在单个宿主体内。与某一列中最常见的符号不同的氨基酸显示为蓝色。\n",
        "\n",
        "- 为了抵制HIV的变异性，我们可以创造一个单一的肽**peptide**，其中包含从所有已知的HIV菌株中提取的变化**最小的**包膜蛋白片段，并使用这个肽作为对抗所有HIV菌株的通用疫苗的基础。然而，HIV包膜蛋白不仅变异快，而且还被糖基化所\"掩盖\"，糖基化**glycosylation**是一种翻译后的修饰，常常使这些蛋白对人类免疫系统不可见。因此，到目前为止，所有开发HIV疫苗的尝试都失败了。\n",
        "\n",
        "- 艾滋病病毒只有九个基因，在本章中我们将重点讨论快速突变的**env**基因，它的突变率为每年每个核苷酸1到2%。编码env基因的蛋白质随后被切割成糖蛋白**glycoprotein**gp120（约480个氨基酸**amino acids**）和糖蛋白gp41（约345个氨基酸）。gp120和gp41一起形成包膜尖峰，它介导HIV病毒进入人体细胞。\n",
        "\n",
        "- 由于HIV变异得如此之快，不同的HIV分离物可能有不同的表型**phenotypes**，因此需要不同的药物组合。例如，HIV病毒可以分为快速复制的合胞体诱导型（SI）分离株和缓慢复制的非合胞体诱导型（NSI）分离株。\n",
        "\n",
        "- 在感染过程中，HIV用来进入细胞的gp120等病毒蛋白被运送到细胞表面，在那里它们可以导致宿主细胞膜与邻近的细胞融合。**这导致几十个人体细胞将其细胞膜融合成一个巨大的、无功能的合胞体，或异常的多核细胞**（见下图）。这种机制使SI病毒只感染一个人的细胞就能杀死许多人的细胞。\n",
        "<center>\n",
        "<img src='https://drive.google.com/uc?id=1rzRv4NvNF5Ha1S2yZyurMkLXoi0ylLQo' width=\"400\"/>\n",
        "</center>\n",
        "- 由于gp120对于将病毒分为SI或NSI非常重要，生物学家有兴趣确定gp120中哪些氨基酸可用于这种分类。\n",
        "\n",
        "- 1992年，Jean-Jacques De Jong分析了gp120中V3环区域的多重排列（见下图），并设计了11/25规则，该规则断言，如果一个HIV病毒株的V3环的第11或25位的氨基酸是精氨酸或赖氨酸，那么它就更可能具有SI表型。后来的研究表明，许多其他位置也会影响SI/NSI的表型。\n",
        "\n",
        "<center>\n",
        "<img src='https://drive.google.com/uc?id=1FYPFpP5sqyo3znN_CPNnmb8laafWxKKm' width=\"400\"/>\n",
        "</center>\n",
        "\n",
        "**[图]**从20个HIV患者身上提取的V3环区的多重排列。对齐的第11列和第25列用深色文字表示；这些列中出现的精氨酸（R）或赖氨酸（K）用红色表示。11/25规则将把其中6名患者归类为感染了SI分离物。尽管V3环是gp120的一个重要且相当保守的部分，但不同位置的保守程度是不同的。例如，第一个和最后一个位置是极其保守的，而第11和25个位置则表现出高度的变化。\n",
        "\n",
        "- 在生物学家甚至可以开始研究从gp120序列预测HIV表型的问题之前，他们就面临着构建这些序列的准确多重排列的问题。事实上，一个错误的比对，在影响SI/NSI表型的位置上放置一个错误的氨基酸，就会导致HIV表型的错误分类。而且我们已经知道，构建高度分歧的序列的多重排列是一个困难的算法问题。\n",
        "\n",
        "- 下图显示了来自gp120的V3环的图案标识，说明gp120中的一些位置是相对保守的，而另一些位置是极其多变的。此外，这个图案标识没有考虑到插入和缺失，而插入和缺失在gp120的其他区域普遍存在，这些区域的保守性比V3环差。这些插入和缺失使分析gp120变得更加复杂。\n",
        "\n",
        "- 由于这种多重排列的各列具有不同的保守程度，我们对在一个排列的不同列中使用相同的氨基酸评分矩阵（以及吲哚惩罚）是否明智提出质疑。一个更好的方法是在不同的列中使用不同的评分方法。例如，在下面的排列中，在第3位与R不同的氨基酸应该比在第11位与S不同的氨基酸产生更大的惩罚。\n",
        "\n",
        "<center>\n",
        "<img src='https://drive.google.com/uc?id=1-OS6v0Tkw_jgBsgCz2It8XeTwdAfp28D' width=\"400\"/>\n",
        "</center>\n",
        "\n",
        "- **简而言之**，前一章中介绍的多序列比对的问题表述并没有将HIV分类的生物学问题充分转化为算法问题。因此，我们必须设计出一种新的序列比对问题的表述，以便对gp120蛋白进行统计学上的分析。\n",
        "\n"
      ],
      "metadata": {
        "id": "N-eUONBOkq0B"
      }
    },
    {
      "cell_type": "markdown",
      "source": [
        "#**_1.2 Gambling with Yakuza_**\n",
        "\n",
        "- 被称为山口组的日本犯罪集团是18世纪旅行赌徒群体的后裔，他们被称为bakuto。(事实上，\"山口组\"是日本纸牌游戏中输掉的一手牌的名称。）山口组在他们的临时赌场中举办的最受欢迎的游戏之一叫做\"正汉\"。在这个游戏中，字面翻译为\"偶数\"，庄家掷出两个骰子，玩家赌骰子的点数之和是偶数还是奇数。\n",
        "\n",
        "- 虽然在黑社会赌馆里玩正汉无疑会是一个有趣的夜晚，但我们可以玩一个类似的--尽管不那么刺激--叫做 \"正面或反面 \"的游戏，即抛出一枚硬币并对结果下注。假设出于某种奇怪的原因，在这个游戏中，下注在反面的人比下注在正面的人多。那么奸商可能会使用一个有偏见的硬币，其结果是正面多于反面。我们将假设这枚有偏见的硬币以3/4的概率产生正面。\n",
        "\n",
        "###**Inference**\n",
        "#####**Exercise:**\n",
        "\n",
        "- Say that you play Heads or Tails 100 times, and the coin produces heads 63 times. Is the dealer cheating? Was the coin fair or biased?\n",
        "\n",
        "For a fair dice,\n",
        "<center>\n",
        "$P_{f}(H)=\\frac{1}{2} \\\\ P_{f}(T)=\\frac{1}{2}$\n",
        "</center>\n",
        "For a biased dice,\n",
        "<center>\n",
        "$P_{b}(H)=\\frac{3}{4} \\\\ P_{b}(T)=\\frac{1}{4}$\n",
        "</center>\n",
        "\n",
        "i.i.d events given by the sequence $X = (X_{1},X_{2},...,X_{n})$ with k heads\n",
        "<center>\n",
        "$P_{f}(x)=\\Pi_{i=1}^{n}P_{f}(x_{i})=(\\frac{1}{2})^{n} \\\\ \n",
        "P_{b}(x)=\\Pi_{i=1}^{n}P_{b}(x_{i})=(\\frac{3}{4})^{k}(\\frac{1}{4})^{n-k}$\n",
        "</center>\n",
        "\n",
        "**log-odds ratio**\n",
        "<center>\n",
        "$log_{2}(\\frac{P_{f}(x)}{P_{b}(x)})=\\frac{(\\frac{1}{2})^{n}}{(\\frac{3}{4})^{k}(\\frac{1}{4})^{n-k}}=log_{2}(\\frac{2^{n}}{3^{k}})= n - k log_{2}(3)$\n",
        "</center>\n",
        "\n",
        "Take n=100 and k=63,\n",
        "<center>\n",
        "$log_{2}(\\frac{P_{f}(x)}{P_{b}(x)})= n - k log_{2}(3)=0.14736>0$\n",
        "</center>\n",
        "\n",
        "This means that $P_{f}(H)>P_{b}(H)$. As we know, people choose tail more. So the boss will take the fair dice."
      ],
      "metadata": {
        "id": "wz8nbwXww6qF"
      }
    },
    {
      "cell_type": "markdown",
      "source": [
        "#**_1.3 Two Coins Up the Dealer's Sleeve_**\n",
        "\n",
        "#####**1.3.1**\n",
        "the crooked dealer is wearing a shirt and keeps both coins up his sleeve, secretly **changing them** back and forth whenever he likes during the sequence of flips. Since he does not want to be caught switching coins, he does so only **occasionally.**\n",
        "\n",
        "We will assume that the crooked dealer **switches coins with probability 0.1 after each flip.** Given a sequence of coin flips, we must determine when the dealer used the biased coin and when he used the fair coin.\n",
        "\n",
        "**Casino Problem**: Given a sequence of coin flips, determine when the crooked dealer used a fair coin and when he used a biased coin.\n",
        "\n",
        "- **Input**: A sequence $x=(x_{1},x_{2},...,x_{n})$ of coin flips made by two possible coins (F and B).\n",
        "\n",
        "- **Output**: A sequence $π=(π_{1},π_{2},...,\\pi_{n})$, with each $π_{i}$ being equal to either F or B and indicating that $x_{i}$ is the result of flipping the fair or biased coin, respectively.\n",
        "\n",
        "不幸的是，这个问题设计的很糟糕，因为任意硬币可以产生任意的结果。所以我们应该寻找最大可能性的序列组合。\n",
        "\n",
        "For example,\n",
        "HHHHH can be generated by BBBBB, FFFFF, BFBFB. So we need to **grade** different scenarios.\n",
        "\n",
        "#####**1.3.2**\n",
        "\n",
        "一个定义明确的**寻找庄家最可能使用的硬币序列**的计算问题应该以某种方式将不同的序列$π$评为比其他的**更好的答案**。猜测庄家在每次翻牌时最可能使用的硬币的一种方法是沿着翻牌序列$x=(x_{1},x_{2},...,x_{n})$滑动一个窗口（窗口长度t<n），然后计算每个窗口下的**对数比**。\n",
        "\n",
        "- 如果窗口的对数比<0，那么庄家最有可能在这个窗口内使用有偏见b的硬币；\n",
        "\n",
        "- 否则，庄家最有可能使用公平f硬币。\n",
        "\n",
        "###**Inference**\n",
        "\n",
        "$HHHTHTHHHT$\n",
        "\n",
        "$HHHTH$            $5-4*log_{2}3=-1.33<0\\:\\:\\:$Biased coin more likely\n",
        "\n",
        "$-HHTHT$           $5-4*log_{2}3=0.25>0\\:\\:\\:$     Fair coin more likely\n",
        "\n",
        "\n",
        "**Disadvantages**\n",
        "\n",
        "- 经过iteration在同一相位会有不同硬币\n",
        "\n",
        "- 如何选择窗口的长度\n",
        "\n",
        "<center>\n",
        "<img src='https://drive.google.com/uc?id=1q7PmFIr3HazeufPefUhOHFPQ--7BM7Y-' width=\"400\"/>\n",
        "</center>"
      ],
      "metadata": {
        "id": "P1qYqOkOQDwC"
      }
    },
    {
      "cell_type": "markdown",
      "source": [
        "#**_1.4 Coin Flipping to Sequence Comparison: Finding CG-Islands_**\n",
        "\n",
        "在考虑到人类基因组的倾斜GC含量后，我们可能会预期CC、CG、GC和GG中的每一个二核苷酸都会以$0.21·0.21=4.41\\%$的频率出现在人类基因组中。然而，CG在人类基因组中出现的频率只有1%左右！这种二核苷酸非常罕见，因为甲基化**methylation**是最常见的DNA修饰，通常在CG二核苷酸内的胞嘧啶核苷酸上添加一个甲基(CH3)。产生的甲基化胞嘧啶有进一步脱氨基形成胸腺嘧啶的趋势。**由于甲基化，CG是许多基因组中最不常见的二核苷酸。**\n",
        "\n",
        "然而，在称为CG岛**CG-Islands**的区域中，基因周围的甲基化通常被抑制，CG出现相对频繁（见下图)。 如果你要对一个你一无所知的哺乳动物基因组进行测序，也许你为了在这个基因组中找到基因而要做的第一件事就是寻找CG岛。\n",
        "\n",
        "<center>\n",
        "<img src='https://drive.google.com/uc?id=1LXp7XCL23uSSI0XqdLv11w1hu3XUI0OH' width=\"600\"/>\n",
        "</center>\n",
        "\n",
        "**Figure:** Dinucleotide frequencies for a collection of CG-islands (left) and non-CG- islands (right) in the human genome computed for a single strand of the X chromosome. Frequencies of CG are shown in red.\n",
        "\n",
        "在基因组中搜索CG岛的一种简单方法是在基因组中向下滑动一个窗口，将具有较高CG频率的窗口宣布为潜在的CG岛。这种方法的缺点类似于使用滑动窗口来确定coin flipping问题。我们不知道窗口应该有多长，重叠窗口可能同时将相同的基因组位置分类为属于CG岛和不属于CG岛。"
      ],
      "metadata": {
        "id": "k7t4CUHtJF99"
      }
    },
    {
      "cell_type": "markdown",
      "source": [
        "#**_1.5 Hidden Markov Models_**"
      ],
      "metadata": {
        "id": "mtDbgPkZMtQG"
      }
    }
  ]
}